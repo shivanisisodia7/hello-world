{
  "nbformat": 4,
  "nbformat_minor": 0,
  "metadata": {
    "colab": {
      "name": "Dphi Visualization.ipynb",
      "provenance": [],
      "collapsed_sections": [],
      "authorship_tag": "ABX9TyPXZFov9w04RSSjxWrbk3M2",
      "include_colab_link": true
    },
    "kernelspec": {
      "name": "python3",
      "display_name": "Python 3"
    }
  },
  "cells": [
    {
      "cell_type": "markdown",
      "metadata": {
        "id": "view-in-github",
        "colab_type": "text"
      },
      "source": [
        "<a href=\"https://colab.research.google.com/github/shivanisisodia7/hello-world/blob/main/Dphi_Visualization.ipynb\" target=\"_parent\"><img src=\"https://colab.research.google.com/assets/colab-badge.svg\" alt=\"Open In Colab\"/></a>"
      ]
    },
    {
      "cell_type": "markdown",
      "metadata": {
        "id": "ttNXszh9CEwm"
      },
      "source": [
        "# Scatter Plot\r\n",
        "\r\n",
        "* It used dots and observe the relationship between two variables\r\n",
        "* Code used - plt.scatter(x-axis (The Vertical line) ,y-axis (The Horizontal Line)\r\n",
        "* Useful to identify Outliers in the data\r\n",
        "\r\n",
        "# Line Chart\r\n",
        "\r\n",
        "* Used to Represent Data Over Continuous Time Span\r\n",
        "* plt.plot(X-axis,y-axis)\r\n",
        "*If you provide only one axis data, this function will automatically take this for Y Axis only.\r\n",
        "\r\n",
        "# Histogram\r\n",
        "* X-axis - Intervals that show the scale of values\r\n",
        "* Y-axis - Number of times that the values occurred for each interval\r\n",
        "* The Bars - The height of the Bar shows the number of times the values occurred within the interval while the width shows the interval \r\n",
        "* Created through \"plt.hist()\"\r\n",
        "* Used for continuous type of nature of data\r\n",
        "\r\n",
        "# Bar Plot\r\n",
        "* There are two types of Bar Graph - One vertical and Another one is Horizontal\r\n",
        "* plt.bar(X-axis,y-axis) - For Vertical Bar Graph\r\n",
        "* plt.barh(x-axis,y-axis) - For Horizontal Bar Graph\r\n",
        "\r\n",
        "# Pie Chart\r\n",
        "* format Autopct - Format String will be fmt%pct\r\n",
        "* Explode - it is used to show the gap between the slices of pie\r\n",
        "* plt.pie(data,explode,labels,autopct)\r\n",
        "* Autopct - '%1.1f%%' here we are displaying only one decimal place if none , no value will be displayed inside the wedges\r\n",
        "\r\n",
        "\r\n",
        "# Pyplot Formatting\r\n",
        "* if you use plt.show two times it will create two different plot but if you dont then it will create two data into one graph\r\n",
        "\r\n",
        "* Add title to the graph with the help of plt.title(\" \")\r\n",
        "\r\n",
        "* Adding Labels - plt.xlabel(), plt.ylabel() ( X-axis and Y-axis Names)\r\n",
        "\r\n",
        "* Adding Legend - Legends means adding names to the lines so that anyone can understand which lines represents to which axis or to which data\r\n",
        "\r\n",
        "plt.plot(x,color,label='Name)\r\n",
        "\r\n",
        "* Changing colors and formatting of Lines \r\n",
        "-plt.plot(x,y,linestyle = '--',color = '',marker = '')\r\n",
        "- shortcut for the above code = plt.plot(x,y,'--ro) (r for red,o for the marker and -- for the lines)\r\n",
        "- Change the size of output images plt.figure(figsize = (width,height))\r\n",
        "\r\n",
        "- multiple figure with the help of subplot method \r\n",
        "  nrows = number of rows in figure\r\n",
        "  ncols = number of columns in figure\r\n",
        "  index = index of the plot\r\n",
        "\r\n",
        "- plt.subplot(1,2,1) - Row,column,Index ( Index means where it will be displayed at mentioned position if its 1st then it will be shown at first if second then 2nd)\r\n",
        "\r\n",
        "- fig(data1,data2) = plt.subplot(1,2) rows and columns\r\n",
        "\r\n",
        "- title to your subplot using **suptitle** method\r\n",
        "\r\n",
        "- fig,ax = plt.subplot(nrows = 2,ncols = 2,figsize = (6,6))\r\n",
        "  ax[0,0].plot \r\n",
        "  ax[0,1].plot\r\n",
        "  ax[1,0].plot\r\n",
        "  ax[1,1].plot\r\n",
        "\r\n",
        "\r\n",
        "- \r\n"
      ]
    },
    {
      "cell_type": "code",
      "metadata": {
        "id": "zamg-OVaCBeC"
      },
      "source": [
        ""
      ],
      "execution_count": null,
      "outputs": []
    }
  ]
}